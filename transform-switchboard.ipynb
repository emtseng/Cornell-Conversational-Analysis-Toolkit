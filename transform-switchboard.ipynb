{
 "cells": [
  {
   "cell_type": "markdown",
   "metadata": {
    "colab_type": "text",
    "id": "p_YNRDvb3etb"
   },
   "source": [
    "# Creating Our Dataset and Applying Our Transformer\n",
    "\n",
    "In this notebook, we:\n",
    "- download switch-board\n",
    "- apply updated Transformer, Genderromantic2, to it\n",
    "- analyze the resulting measures"
   ]
  },
  {
   "cell_type": "code",
   "execution_count": 1,
   "metadata": {
    "colab": {
     "base_uri": "https://localhost:8080/",
     "height": 1000
    },
    "colab_type": "code",
    "id": "Wp3WIlBN4D7l",
    "outputId": "d175f9db-6bab-416b-d2d1-b98b1af1fd51"
   },
   "outputs": [
    {
     "name": "stdout",
     "output_type": "stream",
     "text": [
      "Requirement already satisfied: astroid==2.2.5 in /home/kcs3au/cs4/lib/python3.7/site-packages (from -r requirements.txt (line 1)) (2.2.5)\n",
      "Requirement already satisfied: certifi==2019.6.16 in /home/kcs3au/cs4/lib/python3.7/site-packages (from -r requirements.txt (line 2)) (2019.6.16)\n",
      "Requirement already satisfied: chardet==3.0.4 in /home/kcs3au/cs4/lib/python3.7/site-packages (from -r requirements.txt (line 3)) (3.0.4)\n",
      "Requirement already satisfied: convokit==2.0.11 in /home/kcs3au/cs4/lib/python3.7/site-packages (from -r requirements.txt (line 4)) (2.0.11)\n",
      "Requirement already satisfied: cycler==0.10.0 in /home/kcs3au/cs4/lib/python3.7/site-packages (from -r requirements.txt (line 5)) (0.10.0)\n",
      "Requirement already satisfied: cymem==1.31.2 in /home/kcs3au/cs4/lib/python3.7/site-packages (from -r requirements.txt (line 6)) (1.31.2)\n",
      "Requirement already satisfied: cytoolz==0.9.0.1 in /home/kcs3au/cs4/lib/python3.7/site-packages (from -r requirements.txt (line 7)) (0.9.0.1)\n",
      "Requirement already satisfied: dill==0.2.9 in /home/kcs3au/cs4/lib/python3.7/site-packages (from -r requirements.txt (line 8)) (0.2.9)\n",
      "Requirement already satisfied: en-core-web-sm==2.0.0 in /home/kcs3au/cs4/lib/python3.7/site-packages (from -r requirements.txt (line 9)) (2.0.0)\n",
      "Requirement already satisfied: idna==2.8 in /home/kcs3au/cs4/lib/python3.7/site-packages (from -r requirements.txt (line 10)) (2.8)\n",
      "Requirement already satisfied: isort==4.3.21 in /home/kcs3au/cs4/lib/python3.7/site-packages (from -r requirements.txt (line 11)) (4.3.21)\n",
      "Requirement already satisfied: joblib==0.13.2 in /home/kcs3au/cs4/lib/python3.7/site-packages (from -r requirements.txt (line 12)) (0.13.2)\n",
      "Requirement already satisfied: kiwisolver==1.1.0 in /home/kcs3au/cs4/lib/python3.7/site-packages (from -r requirements.txt (line 13)) (1.1.0)\n",
      "Requirement already satisfied: lazy-object-proxy==1.4.2 in /home/kcs3au/cs4/lib/python3.7/site-packages (from -r requirements.txt (line 14)) (1.4.2)\n",
      "Requirement already satisfied: matplotlib==3.1.1 in /home/kcs3au/cs4/lib/python3.7/site-packages (from -r requirements.txt (line 15)) (3.1.1)\n",
      "Requirement already satisfied: mccabe==0.6.1 in /home/kcs3au/cs4/lib/python3.7/site-packages (from -r requirements.txt (line 16)) (0.6.1)\n",
      "Requirement already satisfied: msgpack==0.6.1 in /home/kcs3au/cs4/lib/python3.7/site-packages (from -r requirements.txt (line 17)) (0.6.1)\n",
      "Requirement already satisfied: msgpack-numpy==0.4.3.2 in /home/kcs3au/cs4/lib/python3.7/site-packages (from -r requirements.txt (line 18)) (0.4.3.2)\n",
      "Requirement already satisfied: murmurhash==0.28.0 in /home/kcs3au/cs4/lib/python3.7/site-packages (from -r requirements.txt (line 19)) (0.28.0)\n",
      "Requirement already satisfied: nltk==3.4.5 in /home/kcs3au/cs4/lib/python3.7/site-packages (from -r requirements.txt (line 20)) (3.4.5)\n",
      "Requirement already satisfied: numpy==1.17.2 in /home/kcs3au/cs4/lib/python3.7/site-packages (from -r requirements.txt (line 21)) (1.17.2)\n",
      "Requirement already satisfied: pandas==0.25.1 in /home/kcs3au/cs4/lib/python3.7/site-packages (from -r requirements.txt (line 22)) (0.25.1)\n",
      "Requirement already satisfied: plac==0.9.6 in /home/kcs3au/cs4/lib/python3.7/site-packages (from -r requirements.txt (line 23)) (0.9.6)\n",
      "Requirement already satisfied: preshed==1.0.1 in /home/kcs3au/cs4/lib/python3.7/site-packages (from -r requirements.txt (line 24)) (1.0.1)\n",
      "Requirement already satisfied: pylint==2.3.1 in /home/kcs3au/cs4/lib/python3.7/site-packages (from -r requirements.txt (line 25)) (2.3.1)\n",
      "Requirement already satisfied: pyparsing==2.4.2 in /home/kcs3au/cs4/lib/python3.7/site-packages (from -r requirements.txt (line 26)) (2.4.2)\n",
      "Requirement already satisfied: python-dateutil==2.8.0 in /home/kcs3au/cs4/lib/python3.7/site-packages (from -r requirements.txt (line 27)) (2.8.0)\n",
      "Requirement already satisfied: pytz==2019.2 in /home/kcs3au/cs4/lib/python3.7/site-packages (from -r requirements.txt (line 28)) (2019.2)\n",
      "Requirement already satisfied: regex==2017.4.5 in /home/kcs3au/cs4/lib/python3.7/site-packages (from -r requirements.txt (line 29)) (2017.4.5)\n",
      "Requirement already satisfied: requests==2.22.0 in /home/kcs3au/cs4/lib/python3.7/site-packages (from -r requirements.txt (line 30)) (2.22.0)\n",
      "Requirement already satisfied: scikit-learn==0.21.3 in /home/kcs3au/cs4/lib/python3.7/site-packages (from -r requirements.txt (line 31)) (0.21.3)\n",
      "Requirement already satisfied: scipy==1.3.1 in /home/kcs3au/cs4/lib/python3.7/site-packages (from -r requirements.txt (line 32)) (1.3.1)\n",
      "Requirement already satisfied: six==1.12.0 in /home/kcs3au/cs4/lib/python3.7/site-packages (from -r requirements.txt (line 33)) (1.12.0)\n",
      "Requirement already satisfied: spacy==2.0.12 in /home/kcs3au/cs4/lib/python3.7/site-packages (from -r requirements.txt (line 34)) (2.0.12)\n",
      "Requirement already satisfied: thinc==6.10.3 in /home/kcs3au/cs4/lib/python3.7/site-packages (from -r requirements.txt (line 35)) (6.10.3)\n",
      "Requirement already satisfied: toolz==0.10.0 in /home/kcs3au/cs4/lib/python3.7/site-packages (from -r requirements.txt (line 36)) (0.10.0)\n",
      "Requirement already satisfied: tqdm==4.35.0 in /home/kcs3au/cs4/lib/python3.7/site-packages (from -r requirements.txt (line 37)) (4.35.0)\n",
      "Requirement already satisfied: typed-ast==1.4.0 in /home/kcs3au/cs4/lib/python3.7/site-packages (from -r requirements.txt (line 38)) (1.4.0)\n",
      "Requirement already satisfied: ujson==1.35 in /home/kcs3au/cs4/lib/python3.7/site-packages (from -r requirements.txt (line 39)) (1.35)\n",
      "Requirement already satisfied: urllib3==1.25.3 in /home/kcs3au/cs4/lib/python3.7/site-packages (from -r requirements.txt (line 40)) (1.25.3)\n",
      "Requirement already satisfied: wrapt==1.10.11 in /home/kcs3au/cs4/lib/python3.7/site-packages (from -r requirements.txt (line 41)) (1.10.11)\n",
      "Requirement already satisfied: setuptools in /home/kcs3au/cs4/lib/python3.7/site-packages (from kiwisolver==1.1.0->-r requirements.txt (line 13)) (40.8.0)\n",
      "\u001b[33mYou are using pip version 19.0.3, however version 19.2.3 is available.\n",
      "You should consider upgrading via the 'pip install --upgrade pip' command.\u001b[0m\n"
     ]
    }
   ],
   "source": [
    "!python3 -m pip install -r requirements.txt"
   ]
  },
  {
   "cell_type": "code",
   "execution_count": 2,
   "metadata": {},
   "outputs": [
    {
     "data": {
      "text/plain": [
       "<module 'convokit' from '/home/kcs3au/cs4/Cornell-Conversational-Analysis-Toolkit/convokit/__init__.py'>"
      ]
     },
     "execution_count": 2,
     "metadata": {},
     "output_type": "execute_result"
    }
   ],
   "source": [
    "import convokit\n",
    "convokit"
   ]
  },
  {
   "cell_type": "code",
   "execution_count": 3,
   "metadata": {},
   "outputs": [],
   "source": [
    "from convokit import Corpus"
   ]
  },
  {
   "cell_type": "markdown",
   "metadata": {},
   "source": [
    "# Download locally stored corpus"
   ]
  },
  {
   "cell_type": "code",
   "execution_count": 4,
   "metadata": {},
   "outputs": [],
   "source": [
    "corpus = Corpus(filename='./datasets/switchboard-corpus/corpus')"
   ]
  },
  {
   "cell_type": "markdown",
   "metadata": {},
   "source": [
    "# Use locally defined Transformer"
   ]
  },
  {
   "cell_type": "code",
   "execution_count": 5,
   "metadata": {
    "scrolled": true
   },
   "outputs": [
    {
     "data": {
      "text/plain": [
       "convokit.genderromantic.genderromantic.Genderromantic"
      ]
     },
     "execution_count": 5,
     "metadata": {},
     "output_type": "execute_result"
    }
   ],
   "source": [
    "from convokit import Genderromantic\n",
    "Genderromantic"
   ]
  },
  {
   "cell_type": "code",
   "execution_count": 6,
   "metadata": {},
   "outputs": [],
   "source": [
    "grr = Genderromantic()"
   ]
  },
  {
   "cell_type": "code",
   "execution_count": 7,
   "metadata": {
    "scrolled": true
   },
   "outputs": [
    {
     "name": "stderr",
     "output_type": "stream",
     "text": [
      "221616it [01:03, 3492.58it/s]\n"
     ]
    }
   ],
   "source": [
    "transformed_corpus = grr.fit_transform(corpus)"
   ]
  },
  {
   "cell_type": "code",
   "execution_count": 8,
   "metadata": {},
   "outputs": [
    {
     "data": {
      "text/plain": [
       "Utterance({'id': '4325-0', 'user': User([('name', '1632')]), 'root': '4325-0', 'reply_to': None, 'timestamp': None, 'text': 'Okay.  /', 'meta': {'tag': 'o', 'pos': 'Okay/UH ./.', 'trees': [[['Okay'], ['.'], ['E_S']]], 'female_about_female': False, 'female_about_male': False, 'male_about_female': False, 'male_about_male': False, 'contains_romantic': False}})"
      ]
     },
     "execution_count": 8,
     "metadata": {},
     "output_type": "execute_result"
    }
   ],
   "source": [
    "next(transformed_corpus.iter_utterances())"
   ]
  },
  {
   "cell_type": "code",
   "execution_count": 9,
   "metadata": {},
   "outputs": [
    {
     "data": {
      "text/plain": [
       "{'sex': 'FEMALE',\n",
       " 'education': 2,\n",
       " 'birth_year': 1962,\n",
       " 'dialect_area': 'WESTERN'}"
      ]
     },
     "execution_count": 9,
     "metadata": {},
     "output_type": "execute_result"
    }
   ],
   "source": [
    "transformed_corpus.get_utterance('4325-0').user.meta"
   ]
  },
  {
   "cell_type": "code",
   "execution_count": 109,
   "metadata": {},
   "outputs": [],
   "source": [
    "# Utterances Dataframe \n",
    "convo={}\n",
    "male_speaking = 0\n",
    "male_speaking_about_female = 0\n",
    "male_speaking_about_female_romantic = 0\n",
    "male_speaking_about_male=0\n",
    "male_speaking_about_male_romantic=0\n",
    "female_speaking = 0\n",
    "female_speaking_about_male = 0\n",
    "female_speaking_about_male_romantic = 0\n",
    "female_speaking_about_female=0\n",
    "female_speaking_about_female_romantic=0\n",
    "romantic = 0\n",
    "not_romantic = 0\n",
    "tot_utt=0\n",
    "female=0\n",
    "sex=[]\n",
    "education=[]\n",
    "birth_year=0\n",
    "dialect_area=[]\n",
    "uid2=1\n",
    "\n",
    "utterance_ids = transformed_corpus.get_utterance_ids()\n",
    "for uid in utterance_ids:\n",
    "    uid2=uid2+1\n",
    "    utt=transformed_corpus.get_utterance(uid)\n",
    "    \n",
    "    #Meta data\n",
    "    education=utt.user.meta['education']\n",
    "    born=utt.user.meta['birth_year']\n",
    "    area=utt.user.meta['dialect_area']\n",
    "    sex = utt.user.meta['sex']\n",
    "    if sex == \"FEMALE\":\n",
    "        female=1\n",
    "    if sex == \"FEMALE\":\n",
    "        female_speaking= 1\n",
    "    if sex == \"MALE\":\n",
    "        male_speaking= 1    \n",
    "\n",
    "    # Then get whether the utterance is a male speaking about a female:\n",
    "    mf2=utt.meta[\"male_about_female\"]\n",
    "    if mf2:\n",
    "        male_speaking_about_female= 1\n",
    "        # And whether it was romantic\n",
    "        if utt.meta[\"contains_romantic\"]:\n",
    "            male_speaking_about_female_romantic= 1\n",
    "\n",
    "    # Then get whether the utterance is a female speaking about a male:\n",
    "    fm2=utt.meta[\"female_about_male\"]\n",
    "    if fm2:\n",
    "        female_speaking_about_male= 1\n",
    "        # And whether it was romantic\n",
    "        if utt.meta[\"contains_romantic\"]:\n",
    "            female_speaking_about_male_romantic= 1\n",
    "\n",
    "    # Then get whether the utterance is a male speaking about a male:\n",
    "    mm2=utt.meta[\"male_about_male\"]\n",
    "    if mm2:\n",
    "        male_speaking_about_male= 1\n",
    "        # And whether it was romantic\n",
    "        if utt.meta[\"contains_romantic\"]:\n",
    "            male_speaking_about_male_romantic= 1\n",
    "    # Then get whether the utterance is a female speaking about a female:\n",
    "    ff2=utt.meta[\"female_about_female\"]\n",
    "    if ff2:\n",
    "        female_speaking_about_female= 1\n",
    "        # And whether it was romantic\n",
    "        if utt.meta[\"contains_romantic\"]:\n",
    "            female_speaking_about_female_romantic= 1\n",
    "\n",
    "    # Then register whether the utt is romantic, period.\n",
    "    rom=utt.meta[\"contains_romantic\"]\n",
    "    if rom:\n",
    "        romantic= 1\n",
    "    else:\n",
    "        not_romantic= 1\n",
    "        \n",
    "    convo[uid2]={'education': education, 'born': born, 'area': area, 'female': female, 'female_speaking': female_speaking, 'male_speaking': male_speaking, 'male_speaking_about_female': male_speaking_about_female, 'male_speaking_about_female_romantic': male_speaking_about_female_romantic, 'male_speaking_about_male': male_speaking_about_male, 'male_speaking_about_male_romantic': male_speaking_about_male_romantic, 'female_speaking_about_female': female_speaking_about_female, 'female_speaking_about_female_romantic': female_speaking_about_female_romantic, 'female_speaking_about_male': female_speaking_about_male, 'female_speaking_about_male_romantic': female_speaking_about_male_romantic}\n",
    "\n",
    "    #refresh\n",
    "    male_speaking = 0\n",
    "    male_speaking_about_female = 0\n",
    "    male_speaking_about_female_romantic = 0\n",
    "    male_speaking_about_male=0\n",
    "    male_speaking_about_male_romantic=0\n",
    "    female_speaking = 0\n",
    "    female_speaking_about_male = 0\n",
    "    female_speaking_about_male_romantic = 0\n",
    "    female_speaking_about_female=0\n",
    "    female_speaking_about_female_romantic=0\n",
    "    romantic = 0\n",
    "    not_romantic = 0\n",
    "    tot_utt=0\n",
    "    female=0\n",
    "    sex=[]\n",
    "    education=[]\n",
    "    birth_year=0\n",
    "    dialect_area=[]"
   ]
  },
  {
   "cell_type": "code",
   "execution_count": 110,
   "metadata": {},
   "outputs": [
    {
     "name": "stdout",
     "output_type": "stream",
     "text": [
      "{'education': 1, 'born': 1971, 'area': 'SOUTH MIDLAND', 'female': 1, 'female_speaking': 1, 'male_speaking': 0, 'male_speaking_about_female': 0, 'male_speaking_about_female_romantic': 0, 'male_speaking_about_male': 0, 'male_speaking_about_male_romantic': 0, 'female_speaking_about_female': 0, 'female_speaking_about_female_romantic': 0, 'female_speaking_about_male': 0, 'female_speaking_about_male_romantic': 0}\n"
     ]
    }
   ],
   "source": [
    "print(convo[4])"
   ]
  },
  {
   "cell_type": "code",
   "execution_count": 115,
   "metadata": {},
   "outputs": [],
   "source": [
    "r= [(uid2, convo[uid2]['education'], convo[uid2]['born'], convo[uid2]['area'], convo[uid2]['female'], convo[uid2]['male_speaking_about_male'], convo[uid2]['male_speaking_about_female'], convo[uid2]['female_speaking_about_female'], convo[uid2]['female_speaking_about_male'], convo[uid2]['male_speaking_about_male_romantic'], convo[uid2]['male_speaking_about_female_romantic'], convo[uid2]['female_speaking_about_female_romantic'], convo[uid2]['female_speaking_about_male_romantic']) for uid2 in convo.keys()]"
   ]
  },
  {
   "cell_type": "code",
   "execution_count": 116,
   "metadata": {},
   "outputs": [
    {
     "name": "stdout",
     "output_type": "stream",
     "text": [
      "        utterance  education  born           area  female  male-male  \\\n",
      "0               2          2  1962        WESTERN       1          0   \n",
      "1               3          2  1962        WESTERN       1          0   \n",
      "2               4          1  1971  SOUTH MIDLAND       1          0   \n",
      "3               5          2  1962        WESTERN       1          0   \n",
      "4               6          1  1971  SOUTH MIDLAND       1          0   \n",
      "...           ...        ...   ...            ...     ...        ...   \n",
      "221611     221613          2  1967  SOUTH MIDLAND       0          0   \n",
      "221612     221614          2  1967  SOUTH MIDLAND       0          0   \n",
      "221613     221615          2  1967  SOUTH MIDLAND       0          0   \n",
      "221614     221616          2  1967  SOUTH MIDLAND       0          0   \n",
      "221615     221617          2  1964       NORTHERN       0          0   \n",
      "\n",
      "        male-female  female-female  female-male  male-male-romantic  \\\n",
      "0                 0              0            0                   0   \n",
      "1                 0              0            0                   0   \n",
      "2                 0              0            0                   0   \n",
      "3                 0              0            0                   0   \n",
      "4                 0              0            0                   0   \n",
      "...             ...            ...          ...                 ...   \n",
      "221611            0              0            0                   0   \n",
      "221612            0              0            0                   0   \n",
      "221613            0              0            0                   0   \n",
      "221614            0              0            0                   0   \n",
      "221615            0              0            0                   0   \n",
      "\n",
      "        male-female-romantic  female-female-romantic  female-male-romantic  \n",
      "0                          0                       0                     0  \n",
      "1                          0                       0                     0  \n",
      "2                          0                       0                     0  \n",
      "3                          0                       0                     0  \n",
      "4                          0                       0                     0  \n",
      "...                      ...                     ...                   ...  \n",
      "221611                     0                       0                     0  \n",
      "221612                     0                       0                     0  \n",
      "221613                     0                       0                     0  \n",
      "221614                     0                       0                     0  \n",
      "221615                     0                       0                     0  \n",
      "\n",
      "[221616 rows x 13 columns]\n"
     ]
    }
   ],
   "source": [
    "import pandas as pd\n",
    "r=pd.DataFrame.from_dict(r)\n",
    "r.columns=['utterance', 'education', 'born', 'area', 'female', 'male-male', 'male-female', 'female-female', 'female-male', 'male-male-romantic', 'male-female-romantic', 'female-female-romantic', 'female-male-romantic']\n",
    "print(r)"
   ]
  },
  {
   "cell_type": "code",
   "execution_count": 117,
   "metadata": {},
   "outputs": [],
   "source": [
    "export_csv = r.to_csv (r'C:\\Users\\kcs3a\\Desktop\\is.csv', index = None, header=True)"
   ]
  },
  {
   "cell_type": "markdown",
   "metadata": {},
   "source": [
    "# Running Statistics on Utterance-Level"
   ]
  },
  {
   "cell_type": "code",
   "execution_count": 114,
   "metadata": {},
   "outputs": [
    {
     "name": "stdout",
     "output_type": "stream",
     "text": [
      "male_speaking:  92248\n",
      "pct male utterances that were romantic:  0.028661868007978493\n",
      "male_speaking_about_female:  1267\n",
      "male_speaking_about_female_romantic:  87\n",
      "pct male utterances about females 0.013734715115774867\n",
      "pct male utterances about females that are romantic 0.0009431098777209262\n",
      "male_speaking_not_about_female:  220349\n",
      "\n",
      "\n",
      "female_speaking:  129368\n",
      "pct female utterances that were romantic:  0.03580483581720364\n",
      "female_speaking_about_male:  3467\n",
      "female_speaking_about_male_romantic:  245\n",
      "pct female utterances about males 0.02679951765506153\n",
      "pct female utterances about males that are romantic 0.0018938222744419022\n",
      "female_speaking_not_about_male:  218149\n",
      "\n",
      "\n",
      "romantic:  7276\n",
      "pct romantic:  0.032831564507977765\n",
      "not_romantic:  214340\n"
     ]
    }
   ],
   "source": [
    "male_speaking = 0\n",
    "male_speaking_romantic = 0\n",
    "male_speaking_about_female = 0\n",
    "male_speaking_about_female_romantic = 0\n",
    "\n",
    "male_speaking_not_about_female = 0\n",
    "\n",
    "female_speaking = 0\n",
    "female_speaking_romantic = 0\n",
    "female_speaking_about_male = 0\n",
    "female_speaking_about_male_romantic = 0\n",
    "\n",
    "female_speaking_not_about_male = 0\n",
    "\n",
    "romantic = 0\n",
    "not_romantic = 0\n",
    "\n",
    "\n",
    "utterance_ids = transformed_corpus.get_utterance_ids()\n",
    "\n",
    "for uid in utterance_ids:\n",
    "    utt=transformed_corpus.get_utterance(uid)\n",
    "    \n",
    "    # First get whether it's a male or female speaker\n",
    "    speaker_gender = utt.user.meta['sex']\n",
    "    if speaker_gender == \"MALE\":\n",
    "        male_speaking += 1\n",
    "        # Then check whether he's saying something romantic\n",
    "        if utt.meta['contains_romantic']:\n",
    "            male_speaking_romantic += 1\n",
    "    if speaker_gender == \"FEMALE\":\n",
    "        female_speaking += 1\n",
    "        # Then check whether she's saying something romantic\n",
    "        if utt.meta['contains_romantic']:\n",
    "            female_speaking_romantic += 1\n",
    "            \n",
    "    # Then get whether the utterance is a male speaking about a female:\n",
    "    mf2=utt.meta[\"male_about_female\"]\n",
    "    if mf2:\n",
    "        male_speaking_about_female += 1\n",
    "        # And whether it was romantic\n",
    "        if utt.meta[\"contains_romantic\"]:\n",
    "            male_speaking_about_female_romantic += 1\n",
    "    else:\n",
    "        male_speaking_not_about_female += 1\n",
    "        \n",
    "    # Then get whether the utterance is a female speaking about a male:\n",
    "    fm2=utt.meta[\"female_about_male\"]\n",
    "    if fm2:\n",
    "        female_speaking_about_male += 1\n",
    "        # And whether it was romantic\n",
    "        if utt.meta[\"contains_romantic\"]:\n",
    "            female_speaking_about_male_romantic += 1\n",
    "    else:\n",
    "        female_speaking_not_about_male += 1\n",
    "        \n",
    "    # Then register whether the utt is romantic, period.\n",
    "    rom=utt.meta[\"contains_romantic\"]\n",
    "    if rom:\n",
    "        romantic += 1\n",
    "    else:\n",
    "        not_romantic += 1\n",
    "\n",
    "#Creating Percentages - help with graphs later\n",
    "perc_male_about_female=(float(male_speaking_about_female) / float(male_speaking))*100\n",
    "perc_male_about_female_rom=(float(male_speaking_about_female_romantic) / float(male_speaking))*100\n",
    "perc_female_about_male=(float(female_speaking_about_male) / float(female_speaking))*100\n",
    "perc_female_about_male_rom=(float(female_speaking_about_male_romantic) / float(female_speaking))*100\n",
    "    \n",
    "print('male_speaking: ', male_speaking)\n",
    "print('pct male utterances that were romantic: ', float(male_speaking_romantic) / float(male_speaking))\n",
    "print('male_speaking_about_female: ', male_speaking_about_female)\n",
    "print('male_speaking_about_female_romantic: ', male_speaking_about_female_romantic)\n",
    "\n",
    "print('pct male utterances about females', float(male_speaking_about_female) / float(male_speaking))\n",
    "print('pct male utterances about females that are romantic', float(male_speaking_about_female_romantic) / float(male_speaking))\n",
    "\n",
    "print('male_speaking_not_about_female: ', male_speaking_not_about_female)\n",
    "print('\\n')\n",
    "print('female_speaking: ', female_speaking)\n",
    "print('pct female utterances that were romantic: ', float(female_speaking_romantic) / float(female_speaking))\n",
    "print('female_speaking_about_male: ', female_speaking_about_male)\n",
    "print('female_speaking_about_male_romantic: ', female_speaking_about_male_romantic)\n",
    "\n",
    "print('pct female utterances about males', float(female_speaking_about_male) / float(female_speaking))\n",
    "print('pct female utterances about males that are romantic', float(female_speaking_about_male_romantic) / float(female_speaking))\n",
    "\n",
    "print('female_speaking_not_about_male: ', female_speaking_not_about_male)\n",
    "print('\\n')\n",
    "print('romantic: ', romantic)\n",
    "print('pct romantic: ', float(romantic) / float(len(utterance_ids)))\n",
    "print('not_romantic: ', not_romantic)\n"
   ]
  },
  {
   "cell_type": "code",
   "execution_count": 11,
   "metadata": {},
   "outputs": [
    {
     "data": {
      "text/plain": [
       "<Figure size 640x480 with 1 Axes>"
      ]
     },
     "metadata": {},
     "output_type": "display_data"
    }
   ],
   "source": [
    "import matplotlib.pyplot as plt\n",
    "import numpy as np\n",
    "import pandas as pd\n",
    "\n",
    "#Comparing Male about Female and Female about Male Conversations (%)\n",
    "bars1=[10, 2.5]\n",
    "bars2=[perc_male_about_female, perc_male_about_female_rom]\n",
    "barWidth=.25 \n",
    "\n",
    "# Set position of bar on X axis\n",
    "r1 = np.arange(len(bars1))\n",
    "r2 = [x + barWidth for x in r1]\n",
    "\n",
    "# Make the plot\n",
    "plt.bar(r1, bars1, color='b', width=barWidth, edgecolor='white', label='Friends')\n",
    "plt.bar(r2, bars2, color='c', width=barWidth, edgecolor='white', label='Switchboard')\n",
    " \n",
    "# Add xticks on the middle of the group bars\n",
    "plt.xlabel('group', fontweight='bold')\n",
    "plt.xticks([r + barWidth for r in range(len(bars1))], ['About Opposite Sex', 'About Opposite Sex & Romantic'])\n",
    " \n",
    "# Create legend & Show graphic\n",
    "plt.title('Percent of Male Utterances about the Opposite Sex \\n and of those what Percentage are Romantic')\n",
    "plt.ylabel('Percent')\n",
    "plt.xlabel('')\n",
    "plt.legend()\n",
    "plt.show()\n",
    "\n"
   ]
  },
  {
   "cell_type": "code",
   "execution_count": 12,
   "metadata": {},
   "outputs": [
    {
     "data": {
      "image/png": "[encoded data removed]",
      "text/plain": [
       "<Figure size 432x288 with 1 Axes>"
      ]
     },
     "metadata": {
      "needs_background": "light"
     },
     "output_type": "display_data"
    }
   ],
   "source": [
    "#Comparing Male about Female and Female about Male Conversations (%)\n",
    "bars3=[6, 2]\n",
    "bars4=[perc_female_about_male, perc_female_about_male_rom]\n",
    "barWidth=.25 \n",
    "\n",
    "# Set position of bar on X axis\n",
    "r1 = np.arange(len(bars1))\n",
    "r2 = [x + barWidth for x in r1]\n",
    "\n",
    "# Make the plot\n",
    "plt.bar(r1, bars1, color='b', width=barWidth, edgecolor='white', label='Friends')\n",
    "plt.bar(r2, bars2, color='c', width=barWidth, edgecolor='white', label='Switchboard')\n",
    " \n",
    "# Add xticks on the middle of the group bars\n",
    "plt.xlabel('group', fontweight='bold')\n",
    "plt.xticks([r + barWidth for r in range(len(bars1))], ['About Opposite Sex', 'About Opposite Sex & Romantic'])\n",
    " \n",
    "# Create legend & Show graphic\n",
    "plt.title('Percent of Female Utterances about the Opposite Sex \\n and of those what Percentage are Romantic')\n",
    "plt.ylabel('Percent')\n",
    "plt.xlabel('')\n",
    "plt.legend()\n",
    "plt.show()\n"
   ]
  },
  {
   "cell_type": "code",
   "execution_count": null,
   "metadata": {},
   "outputs": [],
   "source": []
  }
 ],
 "metadata": {
  "colab": {
   "collapsed_sections": [],
   "name": "convert-et397.ipynb",
   "provenance": [],
   "version": "0.3.2"
  },
  "kernelspec": {
   "display_name": "Python 3",
   "language": "python",
   "name": "python3"
  },
  "language_info": {
   "codemirror_mode": {
    "name": "ipython",
    "version": 3
   },
   "file_extension": ".py",
   "mimetype": "text/x-python",
   "name": "python",
   "nbconvert_exporter": "python",
   "pygments_lexer": "ipython3",
   "version": "3.6.8"
  }
 },
 "nbformat": 4,
 "nbformat_minor": 1
}
